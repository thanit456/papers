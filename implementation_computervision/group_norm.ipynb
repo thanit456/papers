{
  "nbformat": 4,
  "nbformat_minor": 0,
  "metadata": {
    "colab": {
      "name": "group_norm.ipynb",
      "provenance": [],
      "collapsed_sections": [],
      "authorship_tag": "ABX9TyPkbjAfXXZWQUzML5/uycpH",
      "include_colab_link": true
    },
    "kernelspec": {
      "name": "python3",
      "display_name": "Python 3"
    }
  },
  "cells": [
    {
      "cell_type": "markdown",
      "metadata": {
        "id": "view-in-github",
        "colab_type": "text"
      },
      "source": [
        "<a href=\"https://colab.research.google.com/github/thanit456/papers/blob/master/implementation_computervision/group_norm.ipynb\" target=\"_parent\"><img src=\"https://colab.research.google.com/assets/colab-badge.svg\" alt=\"Open In Colab\"/></a>"
      ]
    },
    {
      "cell_type": "code",
      "metadata": {
        "id": "WVtZ-7HRHn7N",
        "colab_type": "code",
        "colab": {}
      },
      "source": [
        "import tensorflow as tf"
      ],
      "execution_count": 0,
      "outputs": []
    },
    {
      "cell_type": "code",
      "metadata": {
        "id": "1aoYRLV1H2dg",
        "colab_type": "code",
        "colab": {}
      },
      "source": [
        "def GroupNorm(x, gamma, beta, G, eps=1e-5):\n",
        "  # x is an input features with shape [N, C, H, W]\n",
        "  # gamma, beta is scale and offset, with shape [1, C, 1, 1]\n",
        "  # G is the number of groups for Group Normalization\n",
        "  # eps is for protecting zero division\n",
        "\n",
        "  N, C, H, W = x.shape\n",
        "  x = tf.reshape(x, [N, G, C//G, H, W])\n",
        "  \n",
        "  mean, var = tf.nn.moments(x, [2, 3, 4], keepdims=True)\n",
        "  x = (x - mean) / tf.sqrt(var + eps)\n",
        "\n",
        "  x = tf.reshape(x, [N, C, H, W])\n",
        "  return x * gamma + beta "
      ],
      "execution_count": 0,
      "outputs": []
    },
    {
      "cell_type": "code",
      "metadata": {
        "id": "vQEAPDZVIt3Z",
        "colab_type": "code",
        "colab": {}
      },
      "source": [
        "x = tf.random.normal(\n",
        "    [10, 6, 20, 40], mean=0.0, stddev=1.0, dtype=tf.dtypes.float32, seed=None, name=None\n",
        ")\n",
        "\n",
        "y = GroupNorm(x, gamma=2, beta=3, G=3)"
      ],
      "execution_count": 0,
      "outputs": []
    },
    {
      "cell_type": "code",
      "metadata": {
        "id": "RY5oqqgcJBwj",
        "colab_type": "code",
        "colab": {
          "base_uri": "https://localhost:8080/",
          "height": 33
        },
        "outputId": "5974721b-fab9-4e99-91a4-397663498e55"
      },
      "source": [
        "# ! Cannot handle if remainder of C/G != 0\n",
        "y.shape"
      ],
      "execution_count": 18,
      "outputs": [
        {
          "output_type": "execute_result",
          "data": {
            "text/plain": [
              "TensorShape([10, 6, 20, 40])"
            ]
          },
          "metadata": {
            "tags": []
          },
          "execution_count": 18
        }
      ]
    },
    {
      "cell_type": "code",
      "metadata": {
        "id": "8JHTyV1LJgVw",
        "colab_type": "code",
        "colab": {}
      },
      "source": [
        ""
      ],
      "execution_count": 0,
      "outputs": []
    }
  ]
}